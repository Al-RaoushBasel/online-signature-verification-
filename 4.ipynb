{
 "cells": [
  {
   "cell_type": "markdown",
   "id": "bdb07555",
   "metadata": {},
   "source": [
    "# 🧠 Signature Verification — Notebook #4 (XGBoost, MLP, Voting)\n",
    "In this notebook, we experiment with three additional models:\n",
    "- XGBoost Classifier\n",
    "- MLP Classifier (Neural Network)\n",
    "- Voting Classifier (Ensemble of the above)\n",
    "\n",
    "We evaluate all models using Accuracy, F1, EER, and Confusion Matrix."
   ]
  },
  {
   "cell_type": "code",
   "execution_count": null,
   "id": "0192ba13",
   "metadata": {},
   "outputs": [],
   "source": [
    "!pip install xgboost"
   ]
  },
  {
   "cell_type": "code",
   "execution_count": null,
   "id": "f1e50f7b",
   "metadata": {},
   "outputs": [],
   "source": [
    "import numpy as np\n",
    "import pandas as pd\n",
    "import matplotlib.pyplot as plt\n",
    "import seaborn as sns\n",
    "from sklearn.preprocessing import StandardScaler\n",
    "from sklearn.metrics import accuracy_score, precision_score, recall_score, f1_score, roc_curve, ConfusionMatrixDisplay\n",
    "from sklearn.neural_network import MLPClassifier\n",
    "from sklearn.ensemble import VotingClassifier\n",
    "from xgboost import XGBClassifier\n",
    "\n",
    "sns.set_style('whitegrid')"
   ]
  },
  {
   "cell_type": "code",
   "execution_count": null,
   "id": "fbf044ef",
   "metadata": {},
   "outputs": [],
   "source": [
    "DATA_DIR = '/content/drive/My Drive/ProjectLabDataset'\n",
    "TRAIN_FILE = f'{DATA_DIR}/mcytTraining.txt'\n",
    "TEST_FILE = f'{DATA_DIR}/mcytTesting.txt'\n",
    "\n",
    "cols = ['ID', 'SigID', 'X', 'Y', 'P', 'al', 'az', 'signatureOrigin']\n",
    "train_df = pd.read_csv(TRAIN_FILE, names=cols, skiprows=1)\n",
    "test_df  = pd.read_csv(TEST_FILE, names=cols, skiprows=1)\n",
    "\n",
    "for df in [train_df, test_df]:\n",
    "    df.columns = df.columns.str.strip()\n",
    "    for col in ['X', 'Y', 'P', 'al', 'az']:\n",
    "        df[col] = pd.to_numeric(df[col], errors='coerce')\n",
    "\n",
    "label_map = {'Genuine': 1, 'Forged': 0}\n",
    "train_df['label'] = train_df['signatureOrigin'].map(label_map)\n",
    "test_df['label']  = test_df['signatureOrigin'].map(label_map)\n",
    "\n",
    "drop_cols = ['ID', 'SigID', 'signatureOrigin', 'al']\n",
    "X_train = train_df.drop(columns=drop_cols + ['label'])\n",
    "y_train = train_df['label']\n",
    "X_test  = test_df.drop(columns=drop_cols + ['label'])\n",
    "y_test  = test_df['label']"
   ]
  },
  {
   "cell_type": "code",
   "execution_count": null,
   "id": "a4a01fdb",
   "metadata": {},
   "outputs": [],
   "source": [
    "scaler = StandardScaler()\n",
    "X_train_scaled = scaler.fit_transform(X_train)\n",
    "X_test_scaled  = scaler.transform(X_test)"
   ]
  },
  {
   "cell_type": "code",
   "execution_count": null,
   "id": "c4600a45",
   "metadata": {},
   "outputs": [],
   "source": [
    "xgb = XGBClassifier(use_label_encoder=False, eval_metric='logloss')\n",
    "xgb.fit(X_train_scaled, y_train)\n",
    "y_pred_xgb = xgb.predict(X_test_scaled)\n",
    "y_prob_xgb = xgb.predict_proba(X_test_scaled)[:, 1]\n",
    "\n",
    "acc = accuracy_score(y_test, y_pred_xgb)\n",
    "f1 = f1_score(y_test, y_pred_xgb)\n",
    "print(f'✅ XGBoost — Accuracy: {acc:.3f}, F1: {f1:.3f}')"
   ]
  },
  {
   "cell_type": "code",
   "execution_count": null,
   "id": "9db45b4e",
   "metadata": {},
   "outputs": [],
   "source": [
    "mlp = MLPClassifier(hidden_layer_sizes=(64, 32), max_iter=500, random_state=42)\n",
    "mlp.fit(X_train_scaled, y_train)\n",
    "y_pred_mlp = mlp.predict(X_test_scaled)\n",
    "y_prob_mlp = mlp.predict_proba(X_test_scaled)[:, 1]\n",
    "\n",
    "acc = accuracy_score(y_test, y_pred_mlp)\n",
    "f1 = f1_score(y_test, y_pred_mlp)\n",
    "print(f'✅ MLPClassifier — Accuracy: {acc:.3f}, F1: {f1:.3f}')"
   ]
  },
  {
   "cell_type": "code",
   "execution_count": null,
   "id": "89e79573",
   "metadata": {},
   "outputs": [],
   "source": [
    "voting = VotingClassifier(estimators=[\n",
    "    ('xgb', xgb),\n",
    "    ('mlp', mlp)\n",
    "], voting='soft')\n",
    "\n",
    "voting.fit(X_train_scaled, y_train)\n",
    "y_pred_vote = voting.predict(X_test_scaled)\n",
    "y_prob_vote = voting.predict_proba(X_test_scaled)[:, 1]\n",
    "\n",
    "acc = accuracy_score(y_test, y_pred_vote)\n",
    "f1 = f1_score(y_test, y_pred_vote)\n",
    "print(f'✅ VotingClassifier — Accuracy: {acc:.3f}, F1: {f1:.3f}')"
   ]
  },
  {
   "cell_type": "code",
   "execution_count": null,
   "id": "a0300259",
   "metadata": {},
   "outputs": [],
   "source": [
    "def compute_eer(y_true, y_score):\n",
    "    fpr, tpr, thresholds = roc_curve(y_true, y_score)\n",
    "    fnr = 1 - tpr\n",
    "    idx = np.nanargmin(np.abs(fpr - fnr))\n",
    "    eer = (fpr[idx] + fnr[idx]) / 2\n",
    "    return eer, thresholds[idx]\n",
    "\n",
    "eer, threshold = compute_eer(y_test, y_prob_vote)\n",
    "print(f'🔍 VotingClassifier EER = {eer:.3f} at threshold = {threshold:.3f}')\n",
    "\n",
    "ConfusionMatrixDisplay.from_estimator(voting, X_test_scaled, y_test)\n",
    "plt.title(\"Confusion Matrix — Voting Classifier\")\n",
    "plt.show()"
   ]
  }
 ],
 "metadata": {},
 "nbformat": 4,
 "nbformat_minor": 5
}
