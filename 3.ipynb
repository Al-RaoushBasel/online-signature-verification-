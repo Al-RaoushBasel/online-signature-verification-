{
 "cells": [
  {
   "cell_type": "markdown",
   "id": "bca8fb27",
   "metadata": {},
   "source": [
    "# Signature Verification – Clean Pipeline and Improved Models\n",
    "In this notebook, we load the cleaned MCYT dataset and test two models: Random Forest and KNN.\n",
    "We use pressure and position data to train and test the models.\n",
    "The goal is to improve accuracy and calculate the Equal Error Rate (EER)."
   ]
  },
  {
   "cell_type": "markdown",
   "id": "fd9aaacf",
   "metadata": {},
   "source": [
    "### Step 1: Make sure needed libraries are installed"
   ]
  },
  {
   "cell_type": "code",
   "execution_count": 1,
   "id": "14d0aa6a",
   "metadata": {
    "colab": {
     "base_uri": "https://localhost:8080/"
    },
    "id": "14d0aa6a",
    "outputId": "5fa72e61-976e-431d-e1ea-45b0c19125de"
   },
   "outputs": [
    {
     "name": "stdout",
     "output_type": "stream",
     "text": [
      "Requirement already satisfied: scikit-learn in /usr/local/lib/python3.11/dist-packages (1.6.1)\n",
      "Requirement already satisfied: numpy>=1.19.5 in /usr/local/lib/python3.11/dist-packages (from scikit-learn) (2.0.2)\n",
      "Requirement already satisfied: scipy>=1.6.0 in /usr/local/lib/python3.11/dist-packages (from scikit-learn) (1.15.3)\n",
      "Requirement already satisfied: joblib>=1.2.0 in /usr/local/lib/python3.11/dist-packages (from scikit-learn) (1.5.0)\n",
      "Requirement already satisfied: threadpoolctl>=3.1.0 in /usr/local/lib/python3.11/dist-packages (from scikit-learn) (3.6.0)\n"
     ]
    }
   ],
   "source": [
    "!pip install scikit-learn\n"
   ]
  },
  {
   "cell_type": "markdown",
   "id": "ed9fd7f0",
   "metadata": {},
   "source": [
    "### Step 2: Mount Google Drive to access the dataset"
   ]
  },
  {
   "cell_type": "code",
   "execution_count": 2,
   "id": "7db2d6f3",
   "metadata": {
    "colab": {
     "base_uri": "https://localhost:8080/"
    },
    "id": "7db2d6f3",
    "outputId": "b72ea406-88dd-4d1e-a782-0f78a355e3c9"
   },
   "outputs": [
    {
     "name": "stdout",
     "output_type": "stream",
     "text": [
      "Mounted at /content/drive\n"
     ]
    }
   ],
   "source": [
    "try:\n",
    "    from google.colab import drive\n",
    "    drive.mount('/content/drive')\n",
    "except:\n",
    "    pass\n"
   ]
  },
  {
   "cell_type": "markdown",
   "id": "f5fcdbec",
   "metadata": {},
   "source": [
    "### Step 3: Import libraries and load the dataset\n",
    "We use the MCYT dataset which has handwritten signature data.\n",
    "The columns include X and Y position, pressure (P), and other pen-related data."
   ]
  },
  {
   "cell_type": "code",
   "execution_count": 3,
   "id": "a0c868fc",
   "metadata": {
    "id": "a0c868fc"
   },
   "outputs": [],
   "source": [
    "import numpy as np\n",
    "import pandas as pd\n",
    "import matplotlib.pyplot as plt\n",
    "import seaborn as sns\n",
    "from sklearn.ensemble import RandomForestClassifier\n",
    "from sklearn.neighbors import KNeighborsClassifier\n",
    "from sklearn.preprocessing import StandardScaler\n",
    "from sklearn.metrics import accuracy_score, precision_score, recall_score, f1_score, confusion_matrix, roc_curve\n",
    "\n",
    "sns.set_style('whitegrid')\n",
    "\n",
    "DATA_DIR = '/content/drive/My Drive/ProjectLabDataset'\n",
    "TRAIN_FILE = f'{DATA_DIR}/mcytTraining.txt'\n",
    "TEST_FILE = f'{DATA_DIR}/mcytTesting.txt'\n",
    "\n",
    "cols = ['ID', 'SigID', 'X', 'Y', 'P', 'al', 'az', 'signatureOrigin']\n",
    "train_df = pd.read_csv(TRAIN_FILE, names=cols, skiprows=1)\n",
    "test_df  = pd.read_csv(TEST_FILE, names=cols, skiprows=1)\n"
   ]
  },
  {
   "cell_type": "markdown",
   "id": "184d29c0",
   "metadata": {},
   "source": [
    "### Step 4: Clean the data and set up labels\n",
    "We remove extra spaces, convert values to numbers, and map 'Genuine' to 1 and 'Forged' to 0."
   ]
  },
  {
   "cell_type": "code",
   "execution_count": 4,
   "id": "186a384a",
   "metadata": {
    "colab": {
     "base_uri": "https://localhost:8080/"
    },
    "id": "186a384a",
    "outputId": "0d57c6d4-fa98-4298-d135-fc6af4053aea"
   },
   "outputs": [
    {
     "name": "stdout",
     "output_type": "stream",
     "text": [
      "Loaded: 20000 train rows | 1000 test rows\n"
     ]
    }
   ],
   "source": [
    "for df in [train_df, test_df]:\n",
    "    df.columns = df.columns.str.strip()\n",
    "    for col in ['X', 'Y', 'P', 'al', 'az']:\n",
    "        df[col] = pd.to_numeric(df[col], errors='coerce')\n",
    "\n",
    "label_map = {'Genuine': 1, 'Forged': 0}\n",
    "train_df['label'] = train_df['signatureOrigin'].map(label_map)\n",
    "test_df['label']  = test_df['signatureOrigin'].map(label_map)\n",
    "\n",
    "print(f\"Loaded: {len(train_df)} train rows | {len(test_df)} test rows\")\n"
   ]
  },
  {
   "cell_type": "markdown",
   "id": "1b7363e1",
   "metadata": {},
   "source": [
    "### Step 5: Select the input features and target labels\n",
    "We drop unneeded columns and prepare the training and test sets."
   ]
  },
  {
   "cell_type": "code",
   "execution_count": 5,
   "id": "866ecc78",
   "metadata": {
    "colab": {
     "base_uri": "https://localhost:8080/"
    },
    "id": "866ecc78",
    "outputId": "db2fa8b7-5d35-4482-f7f2-b87a326efd67"
   },
   "outputs": [
    {
     "name": "stdout",
     "output_type": "stream",
     "text": [
      "Features and labels prepared\n"
     ]
    }
   ],
   "source": [
    "drop_cols = ['ID', 'SigID', 'signatureOrigin', 'al']\n",
    "X_train = train_df.drop(columns=drop_cols + ['label'])\n",
    "y_train = train_df['label']\n",
    "\n",
    "X_test = test_df.drop(columns=drop_cols + ['label'])\n",
    "y_test = test_df['label']\n",
    "\n",
    "print(\"Features and labels prepared\")\n"
   ]
  },
  {
   "cell_type": "markdown",
   "id": "3f71f871",
   "metadata": {
    "id": "3f71f871"
   },
   "source": [
    "## Feature Scaling"
   ]
  },
  {
   "cell_type": "code",
   "execution_count": 6,
   "id": "35c102f7",
   "metadata": {
    "id": "35c102f7"
   },
   "outputs": [],
   "source": [
    "scaler = StandardScaler()\n",
    "X_train_scaled = scaler.fit_transform(X_train)\n",
    "X_test_scaled  = scaler.transform(X_test)\n"
   ]
  },
  {
   "cell_type": "markdown",
   "id": "b02aa4ce",
   "metadata": {
    "id": "b02aa4ce"
   },
   "source": [
    "## Model Training and Evaluation"
   ]
  },
  {
   "cell_type": "code",
   "execution_count": 7,
   "id": "fac8ac78",
   "metadata": {
    "colab": {
     "base_uri": "https://localhost:8080/"
    },
    "id": "fac8ac78",
    "outputId": "7c42f71a-3fc7-483e-abd5-de2165385889"
   },
   "outputs": [
    {
     "name": "stdout",
     "output_type": "stream",
     "text": [
      "RandomForest - Accuracy: 0.837, F1: 0.847\n",
      "KNN - Accuracy: 0.820, F1: 0.827\n"
     ]
    }
   ],
   "source": [
    "models = {\n",
    "    'RandomForest': RandomForestClassifier(n_estimators=100, max_depth=10, min_samples_split=10, random_state=42),\n",
    "    'KNN': KNeighborsClassifier(n_neighbors=7)\n",
    "}\n",
    "\n",
    "results = []\n",
    "\n",
    "for name, model in models.items():\n",
    "    model.fit(X_train_scaled, y_train)\n",
    "    y_pred = model.predict(X_test_scaled)\n",
    "    y_prob = model.predict_proba(X_test_scaled)[:, 1]\n",
    "\n",
    "    acc = accuracy_score(y_test, y_pred)\n",
    "    pre = precision_score(y_test, y_pred)\n",
    "    rec = recall_score(y_test, y_pred)\n",
    "    f1 = f1_score(y_test, y_pred)\n",
    "\n",
    "    results.append({'Model': name, 'Accuracy': acc, 'Precision': pre, 'Recall': rec, 'F1': f1})\n",
    "    print(f\"{name} - Accuracy: {acc:.3f}, F1: {f1:.3f}\")\n"
   ]
  },
  {
   "cell_type": "markdown",
   "id": "048c03c4",
   "metadata": {
    "id": "048c03c4"
   },
   "source": [
    "## Equal Error Rate (EER) for Random Forest"
   ]
  },
  {
   "cell_type": "code",
   "execution_count": 8,
   "id": "9e574451",
   "metadata": {
    "colab": {
     "base_uri": "https://localhost:8080/"
    },
    "id": "9e574451",
    "outputId": "f793189e-e77c-4b77-8d5b-90be534b9653"
   },
   "outputs": [
    {
     "name": "stdout",
     "output_type": "stream",
     "text": [
      "RandomForest EER = 0.159 at threshold = 0.598\n"
     ]
    }
   ],
   "source": [
    "def compute_eer(y_true, y_score):\n",
    "    fpr, tpr, thresholds = roc_curve(y_true, y_score)\n",
    "    fnr = 1 - tpr\n",
    "    idx = np.nanargmin(np.abs(fpr - fnr))\n",
    "    eer = (fpr[idx] + fnr[idx]) / 2\n",
    "    return eer, thresholds[idx]\n",
    "\n",
    "rf_probs = models['RandomForest'].predict_proba(X_test_scaled)[:,1]\n",
    "eer, threshold = compute_eer(y_test, rf_probs)\n",
    "\n",
    "print(f\"RandomForest EER = {eer:.3f} at threshold = {threshold:.3f}\")\n"
   ]
  },
  {
   "cell_type": "markdown",
   "id": "c27837a3",
   "metadata": {
    "id": "c27837a3"
   },
   "source": [
    "## Confusion Matrix for Random Forest"
   ]
  },
  {
   "cell_type": "code",
   "execution_count": 9,
   "id": "0a8141d5",
   "metadata": {
    "colab": {
     "base_uri": "https://localhost:8080/",
     "height": 472
    },
    "id": "0a8141d5",
    "outputId": "f42935b8-3965-4f2a-aeda-e20da2dd0849"
   },
   "outputs": [
    {
     "data": {
      "image/png": "[encoded data removed]",
      "text/plain": [
       "<Figure size 640x480 with 2 Axes>"
      ]
     },
     "metadata": {},
     "output_type": "display_data"
    }
   ],
   "source": [
    "from sklearn.metrics import ConfusionMatrixDisplay\n",
    "ConfusionMatrixDisplay.from_estimator(models['RandomForest'], X_test_scaled, y_test)\n",
    "plt.title(\"Confusion Matrix - Random Forest\")\n",
    "plt.show()\n"
   ]
  },
  {
   "cell_type": "markdown",
   "id": "1784a3ac",
   "metadata": {
    "id": "1784a3ac"
   },
   "source": [
    "## Conclusion\n",
    "\n",
    "In this notebook, we applied machine learning techniques to the task of online signature verification.\n",
    "We evaluated both Random Forest and KNN classifiers, achieving the following:\n",
    "\n",
    "- Random Forest: Accuracy = 0.837, F1 Score = 0.847\n",
    "- KNN: Accuracy = 0.820, F1 Score = 0.827\n",
    "\n",
    "The Random Forest model also achieved an Equal Error Rate (EER) of 0.159 at a decision threshold of 0.598,\n",
    "which indicates a strong balance between false acceptance and rejection rates.\n",
    "\n",
    "Overall, Random Forest outperformed KNN in both classification metrics and verification error,\n",
    "making it a better choice for this task.\n"
   ]
  }
 ],
 "metadata": {
  "colab": {
   "provenance": []
  },
  "kernelspec": {
   "display_name": "Python 3",
   "name": "python3"
  },
  "language_info": {
   "name": "python"
  }
 },
 "nbformat": 4,
 "nbformat_minor": 5
}
